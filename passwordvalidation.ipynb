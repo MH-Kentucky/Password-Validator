{
 "cells": [
  {
   "cell_type": "markdown",
   "metadata": {},
   "source": [
    "Password Validation"
   ]
  },
  {
   "cell_type": "code",
   "execution_count": 15,
   "metadata": {},
   "outputs": [],
   "source": [
    "def passwordRequest():  #function to request input and explain input parameters\n",
    "    print(\"\"\"Password must:\n",
    "    Be 8-16 characters\n",
    "    Contain at least one of the following characters: %$^&*!@() \n",
    "    Contain at least one number\n",
    "    Contain at least one capital letter\"\n",
    "    Start with a lowercase letter\n",
    "    Cannot contain any of the following phrases: 'pass', 'qwerty', '123'\"\"\")\n",
    "    password = input(\"Please enter your password: \")\n",
    "    return password\n"
   ]
  },
  {
   "cell_type": "markdown",
   "metadata": {},
   "source": [
    "Checking special characters"
   ]
  },
  {
   "cell_type": "code",
   "execution_count": 16,
   "metadata": {},
   "outputs": [],
   "source": [
    "\n",
    "\n",
    "def containsSpecialChar(password):\n",
    "    specialChar = \"%$^&*!@()\"\n",
    "    if any(char in password for char in specialChar):\n",
    "        return True\n",
    "    else:\n",
    "        print(\"Your password must contain at least one of the following characters: %$^&*!@(). \")\n",
    "\n"
   ]
  },
  {
   "cell_type": "markdown",
   "metadata": {},
   "source": [
    "Checking for special passphrases"
   ]
  },
  {
   "cell_type": "code",
   "execution_count": 17,
   "metadata": {},
   "outputs": [],
   "source": [
    "def containSpecialPhrase(password):\n",
    "    specialPhrases = ['pass','qwerty','123']\n",
    "    checkPassword = password.lower()\n",
    "    \n",
    "    if any(phrase in checkPassword for phrase in specialPhrases):\n",
    "        print(\"Your password must not contain any of the following phrases: 'pass', 'qwerty', '123'. \")\n",
    "        return True\n",
    "    else:\n",
    "        return False\n",
    "    \n",
    "                \n",
    "            \n"
   ]
  },
  {
   "cell_type": "code",
   "execution_count": 18,
   "metadata": {},
   "outputs": [
    {
     "name": "stdout",
     "output_type": "stream",
     "text": [
      "Password must:\n",
      "    Be 8-16 characters\n",
      "    Contain at least one of the following characters: %$^&*!@() \n",
      "    Contain at least one number\n",
      "    Contain at least one capital letter\"\n",
      "    Start with a lowercase letter\n",
      "    Cannot contain any of the following phrases: 'pass', 'qwerty', '123'\n",
      "Testcase\n",
      "Incorrect requirement: Your password starts with an uppercase letter or number. It should start with a lowercase letter.\n",
      "Password must:\n",
      "    Be 8-16 characters\n",
      "    Contain at least one of the following characters: %$^&*!@() \n",
      "    Contain at least one number\n",
      "    Contain at least one capital letter\"\n",
      "    Start with a lowercase letter\n",
      "    Cannot contain any of the following phrases: 'pass', 'qwerty', '123'\n",
      "9testcase\n",
      "Incorrect requirement: Your password starts with an uppercase letter or number. It should start with a lowercase letter.\n",
      "Password must:\n",
      "    Be 8-16 characters\n",
      "    Contain at least one of the following characters: %$^&*!@() \n",
      "    Contain at least one number\n",
      "    Contain at least one capital letter\"\n",
      "    Start with a lowercase letter\n",
      "    Cannot contain any of the following phrases: 'pass', 'qwerty', '123'\n",
      "testcase\n",
      "Incorrect requirement: Password must contain at least one number 0-9.\n",
      "Password must:\n",
      "    Be 8-16 characters\n",
      "    Contain at least one of the following characters: %$^&*!@() \n",
      "    Contain at least one number\n",
      "    Contain at least one capital letter\"\n",
      "    Start with a lowercase letter\n",
      "    Cannot contain any of the following phrases: 'pass', 'qwerty', '123'\n",
      "test9\n",
      "Incorrect requirement: Your password length is less than 8 or greater than 16.\n",
      "Password must:\n",
      "    Be 8-16 characters\n",
      "    Contain at least one of the following characters: %$^&*!@() \n",
      "    Contain at least one number\n",
      "    Contain at least one capital letter\"\n",
      "    Start with a lowercase letter\n",
      "    Cannot contain any of the following phrases: 'pass', 'qwerty', '123'\n",
      "testcasetestcase99\n",
      "Incorrect requirement: Your password length is less than 8 or greater than 16.\n",
      "Password must:\n",
      "    Be 8-16 characters\n",
      "    Contain at least one of the following characters: %$^&*!@() \n",
      "    Contain at least one number\n",
      "    Contain at least one capital letter\"\n",
      "    Start with a lowercase letter\n",
      "    Cannot contain any of the following phrases: 'pass', 'qwerty', '123'\n",
      "testcase9\n",
      "Your password must contain at least one of the following characters: %$^&*!@(). \n",
      "Password must:\n",
      "    Be 8-16 characters\n",
      "    Contain at least one of the following characters: %$^&*!@() \n",
      "    Contain at least one number\n",
      "    Contain at least one capital letter\"\n",
      "    Start with a lowercase letter\n",
      "    Cannot contain any of the following phrases: 'pass', 'qwerty', '123'\n",
      "testpAsS9%\n",
      "Your password must not contain any of the following phrases: 'pass', 'qwerty', '123'. \n",
      "Password must:\n",
      "    Be 8-16 characters\n",
      "    Contain at least one of the following characters: %$^&*!@() \n",
      "    Contain at least one number\n",
      "    Contain at least one capital letter\"\n",
      "    Start with a lowercase letter\n",
      "    Cannot contain any of the following phrases: 'pass', 'qwerty', '123'\n",
      "qWer12pAs%\n",
      "Success! You have created a password!\n"
     ]
    }
   ],
   "source": [
    "import re\n",
    "\n",
    "x = True                    #loop to start checking parameters\n",
    "while x:\n",
    "    userPassword = passwordRequest()\n",
    "    print(userPassword)\n",
    "    if not re.search(\"[a-z]\",userPassword[0]):\n",
    "        print(\"Incorrect requirement: Your password starts with an uppercase letter or number. It should start with a lowercase letter.\")\n",
    "        \n",
    "    elif (len(userPassword) < 8 or len(userPassword) > 16):\n",
    "        print(\"Incorrect requirement: Your password length is less than 8 or greater than 16.\")\n",
    "        \n",
    "    elif not re.search(\"[0-9]\", userPassword):\n",
    "        print(\"Incorrect requirement: Password must contain at least one number 0-9.\")\n",
    "    elif not containsSpecialChar(userPassword):\n",
    "        continue\n",
    "    elif containSpecialPhrase(userPassword):\n",
    "        continue\n",
    "    else:\n",
    "        print(\"Success! You have created a password!\")\n",
    "        break"
   ]
  }
 ],
 "metadata": {
  "kernelspec": {
   "display_name": "Python 3",
   "language": "python",
   "name": "python3"
  },
  "language_info": {
   "codemirror_mode": {
    "name": "ipython",
    "version": 3
   },
   "file_extension": ".py",
   "mimetype": "text/x-python",
   "name": "python",
   "nbconvert_exporter": "python",
   "pygments_lexer": "ipython3",
   "version": "3.13.2"
  }
 },
 "nbformat": 4,
 "nbformat_minor": 2
}
