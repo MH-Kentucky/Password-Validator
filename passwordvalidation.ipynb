{
 "cells": [
  {
   "cell_type": "markdown",
   "metadata": {},
   "source": [
    "Password Validation"
   ]
  },
  {
   "cell_type": "code",
   "execution_count": 79,
   "metadata": {},
   "outputs": [],
   "source": [
    "def passwordRequest():  #function to request input and explain input parameters\n",
    "    print(\"\"\"Password must:\n",
    "    Be 8-16 characters\n",
    "    Contain at least one of the following characters: %$^&*!@() \n",
    "    Contain at least one number\n",
    "    Contain at least one capital letter\"\n",
    "    Start with a lowercase letter\n",
    "    Cannot contain any of the following phrases: 'pass', 'qwerty', '123'\"\"\")\n",
    "    password = input(\"Please enter your password: \")\n",
    "    return password\n"
   ]
  },
  {
   "cell_type": "markdown",
   "metadata": {},
   "source": [
    "Checking special characters"
   ]
  },
  {
   "cell_type": "code",
   "execution_count": 80,
   "metadata": {},
   "outputs": [
    {
     "name": "stdout",
     "output_type": "stream",
     "text": [
      "Password must:\n",
      "    Be 8-16 characters\n",
      "    Contain at least one of the following characters: %$^&*!@() \n",
      "    Contain at least one number\n",
      "    Contain at least one capital letter\"\n",
      "    Start with a lowercase letter\n",
      "    Cannot contain any of the following phrases: 'pass', 'qwerty', '123'\n",
      "past123word&\n"
     ]
    },
    {
     "data": {
      "text/plain": [
       "True"
      ]
     },
     "execution_count": 80,
     "metadata": {},
     "output_type": "execute_result"
    }
   ],
   "source": [
    "userPassword =passwordRequest()\n",
    "\n",
    "def containsSpecialChar(password):\n",
    "    print(userPassword)\n",
    "    specialChar = \"%$^&*!@()\"\n",
    "    if any(char in password for char in specialChar):\n",
    "            return True\n",
    "    else:\n",
    "        print(\"Your password must contain at least one of the following characters: %$^&*!@(). \")\n",
    "\n",
    "containsSpecialChar(userPassword)  "
   ]
  },
  {
   "cell_type": "markdown",
   "metadata": {},
   "source": [
    "Checking for special passphrases"
   ]
  },
  {
   "cell_type": "code",
   "execution_count": 81,
   "metadata": {},
   "outputs": [
    {
     "name": "stdout",
     "output_type": "stream",
     "text": [
      "You cannot use any of the following phrases: 'pass', 'qwerty', '123'. Please try again.\n"
     ]
    }
   ],
   "source": [
    "def containSpecialPhrase(password):\n",
    "    specialPhrases = ['pass','qwerty','123']\n",
    "    checkPassword = userPassword.lower()\n",
    "    for phrase in specialPhrases:\n",
    "        if phrase in checkPassword:\n",
    "            print(\"You cannot use any of the following phrases: 'pass', 'qwerty', '123'. Please try again.\")\n",
    "    \n",
    "containSpecialPhrase(userPassword)"
   ]
  }
 ],
 "metadata": {
  "kernelspec": {
   "display_name": "Python 3",
   "language": "python",
   "name": "python3"
  },
  "language_info": {
   "codemirror_mode": {
    "name": "ipython",
    "version": 3
   },
   "file_extension": ".py",
   "mimetype": "text/x-python",
   "name": "python",
   "nbconvert_exporter": "python",
   "pygments_lexer": "ipython3",
   "version": "3.13.2"
  }
 },
 "nbformat": 4,
 "nbformat_minor": 2
}
