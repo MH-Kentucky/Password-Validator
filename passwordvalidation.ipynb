{
 "cells": [
  {
   "cell_type": "markdown",
   "metadata": {},
   "source": [
    "Password Validation"
   ]
  },
  {
   "cell_type": "code",
   "execution_count": 1,
   "metadata": {},
   "outputs": [],
   "source": [
    "def passwordRequest():  #function to request input and explain input parameters\n",
    "    print(\"\"\"Password must:\n",
    "    Be 8-16 characters\n",
    "    Contain at least one of the following characters: %$^&*!@() \n",
    "    Contain at least one number\n",
    "    Contain at least one capital letter\"\n",
    "    Start with a lowercase letter\n",
    "    Cannot contain any of the following phrases: 'pass', 'qwerty', '123'\"\"\")\n",
    "    password = input(\"Please enter your password: \")\n",
    "    return password\n"
   ]
  }
 ],
 "metadata": {
  "kernelspec": {
   "display_name": "Python 3",
   "language": "python",
   "name": "python3"
  },
  "language_info": {
   "codemirror_mode": {
    "name": "ipython",
    "version": 3
   },
   "file_extension": ".py",
   "mimetype": "text/x-python",
   "name": "python",
   "nbconvert_exporter": "python",
   "pygments_lexer": "ipython3",
   "version": "3.13.2"
  }
 },
 "nbformat": 4,
 "nbformat_minor": 2
}
