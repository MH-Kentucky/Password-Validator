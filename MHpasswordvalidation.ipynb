{
 "cells": [
  {
   "cell_type": "code",
   "execution_count": 2,
   "metadata": {},
   "outputs": [
    {
     "name": "stdout",
     "output_type": "stream",
     "text": [
      "Password must:\n",
      "    Be 8-16 characters\n",
      "    Contain at least one of the following characters: %$^&*!@() \n",
      "    Contain at least one number\n",
      "    Contain at least one capital letter\"\n",
      "    Start with a lowercase letter\n",
      "    Cannot contain any of the following phrases: 'pass', 'qwerty', '123'\n"
     ]
    }
   ],
   "source": [
    "print(\"\"\"Password must:\n",
    "    Be 8-16 characters\n",
    "    Contain at least one of the following characters: %$^&*!@() \n",
    "    Contain at least one number\n",
    "    Contain at least one capital letter\"\n",
    "    Start with a lowercase letter\n",
    "    Cannot contain any of the following phrases: 'pass', 'qwerty', '123'\"\"\")\n"
   ]
  },
  {
   "cell_type": "code",
   "execution_count": 2,
   "metadata": {},
   "outputs": [
    {
     "name": "stdout",
     "output_type": "stream",
     "text": [
      "Incorrect requirement: Your password starts with an uppercase letter. It should start with a lowercase letter.\n"
     ]
    }
   ],
   "source": [
    "import re\n",
    "p = input(\"Please enter a password that conforms to the above restrictions\")\n",
    "x = True\n",
    "while x:\n",
    "    if not re.search(\"[a-z]\",p [0]):\n",
    "        print(\"Incorrect requirement: Your password starts with an uppercase letter. It should start with a lowercase letter.\")\n",
    "        break\n"
   ]
  }
 ],
 "metadata": {
  "kernelspec": {
   "display_name": "Python 3",
   "language": "python",
   "name": "python3"
  },
  "language_info": {
   "codemirror_mode": {
    "name": "ipython",
    "version": 3
   },
   "file_extension": ".py",
   "mimetype": "text/x-python",
   "name": "python",
   "nbconvert_exporter": "python",
   "pygments_lexer": "ipython3",
   "version": "3.13.2"
  }
 },
 "nbformat": 4,
 "nbformat_minor": 2
}
